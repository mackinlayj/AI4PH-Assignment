{
 "cells": [
  {
   "cell_type": "code",
   "execution_count": null,
   "id": "edd8c04b-a5fe-4577-9539-60ba10b0215e",
   "metadata": {},
   "outputs": [],
   "source": []
  }
 ],
 "metadata": {
  "kernelspec": {
   "display_name": "",
   "name": ""
  },
  "language_info": {
   "name": ""
  }
 },
 "nbformat": 4,
 "nbformat_minor": 5
}
